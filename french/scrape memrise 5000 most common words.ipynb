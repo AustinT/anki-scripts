{
 "cells": [
  {
   "cell_type": "markdown",
   "metadata": {},
   "source": [
    "# Scrapes 5000 most common French words from this site\n",
    "https://www.memrise.com/course/131111/5000-most-common-french-words\n",
    "\n",
    "They are divided into 50 pages of 100 words each. This script quickly goes and scrapes them all"
   ]
  },
  {
   "cell_type": "code",
   "execution_count": 1,
   "metadata": {},
   "outputs": [],
   "source": [
    "import requests\n",
    "import urllib.request\n",
    "import time\n",
    "from bs4 import BeautifulSoup\n",
    "from tqdm import tqdm_notebook as tqdm\n",
    "import os"
   ]
  },
  {
   "cell_type": "code",
   "execution_count": 2,
   "metadata": {},
   "outputs": [
    {
     "data": {
      "application/vnd.jupyter.widget-view+json": {
       "model_id": "6723a88258004d3fbce0b1118528f870",
       "version_major": 2,
       "version_minor": 0
      },
      "text/plain": [
       "HBox(children=(IntProgress(value=0, max=50), HTML(value='')))"
      ]
     },
     "metadata": {},
     "output_type": "display_data"
    },
    {
     "name": "stdout",
     "output_type": "stream",
     "text": [
      "\n"
     ]
    }
   ],
   "source": [
    "all_words = []\n",
    "for page in tqdm(range(1, 51)):\n",
    "    \n",
    "    # Wait 1s\n",
    "    time.sleep(1)\n",
    "    \n",
    "    # Get url\n",
    "    url = f'https://www.memrise.com/course/131111/5000-most-common-french-words/{page}/'\n",
    "    response = requests.get(url)\n",
    "    \n",
    "    # Parse url\n",
    "    soup = BeautifulSoup(response.text, \"html.parser\")\n",
    "    \n",
    "    # Find the table and extract the rows\n",
    "    table = soup.find_all(\"div\", attrs={\"class\": \"things clearfix\"})\n",
    "    if len(table) == 1:\n",
    "        table = table[0]\n",
    "    else:\n",
    "        raise RuntimeError(\"multiple tables found\")\n",
    "        \n",
    "    for row in table.find_all(\"div\", attrs={\"class\": \"thing text-text\"}):\n",
    "        words = []\n",
    "        i = 0\n",
    "        for entry in row.find_all(\"div\", attrs={\"class\": \"text\"}, recursive=False):\n",
    "            words.append(entry.text)\n",
    "        assert len(words) == 2, \"More than 2 words found: aborting!\"\n",
    "        all_words.append(tuple(words))"
   ]
  },
  {
   "cell_type": "code",
   "execution_count": 3,
   "metadata": {},
   "outputs": [
    {
     "data": {
      "text/plain": [
       "5000"
      ]
     },
     "execution_count": 3,
     "metadata": {},
     "output_type": "execute_result"
    }
   ],
   "source": [
    "len(all_words)  # should be 5000"
   ]
  },
  {
   "cell_type": "code",
   "execution_count": 4,
   "metadata": {},
   "outputs": [
    {
     "data": {
      "text/plain": [
       "[('un', 'a, an, one'),\n",
       " ('à', 'to, at, in [not \"chez\"]'),\n",
       " ('en', 'in, by'),\n",
       " ('le', 'the; him, her, it, them'),\n",
       " ('et', 'and')]"
      ]
     },
     "execution_count": 4,
     "metadata": {},
     "output_type": "execute_result"
    }
   ],
   "source": [
    "# Make sure output looks ok\n",
    "all_words[0:5]"
   ]
  },
  {
   "cell_type": "code",
   "execution_count": 5,
   "metadata": {},
   "outputs": [],
   "source": [
    "# Write into a tsv with an extra column for \"add reverse card\" since my cards have that\n",
    "# If you don't want the reverse card, just remove the y\n",
    "with open(os.environ[\"HOME\"] + \"/Downloads/fren.txt\", \"w\") as f:\n",
    "    for fr, en in all_words:\n",
    "        f.write(f\"{fr}\\t{en}\\ty\\n\")"
   ]
  },
  {
   "cell_type": "code",
   "execution_count": null,
   "metadata": {},
   "outputs": [],
   "source": []
  }
 ],
 "metadata": {
  "kernelspec": {
   "display_name": "Python 3",
   "language": "python",
   "name": "python3"
  },
  "language_info": {
   "codemirror_mode": {
    "name": "ipython",
    "version": 3
   },
   "file_extension": ".py",
   "mimetype": "text/x-python",
   "name": "python",
   "nbconvert_exporter": "python",
   "pygments_lexer": "ipython3",
   "version": "3.7.3"
  }
 },
 "nbformat": 4,
 "nbformat_minor": 2
}
