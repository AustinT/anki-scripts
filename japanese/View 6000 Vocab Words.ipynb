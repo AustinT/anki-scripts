{
 "cells": [
  {
   "cell_type": "markdown",
   "metadata": {},
   "source": [
    "# Summary\n",
    "This script looks for duplicates in the 6000 words scraped.\n",
    "This is meant to be run after scraping the 6000 words into the appropriate csv/pkl file\n",
    "## Conclusion\n",
    "There are a few duplicates- silly Japanese!!"
   ]
  },
  {
   "cell_type": "code",
   "execution_count": 19,
   "metadata": {},
   "outputs": [],
   "source": [
    "import pickle as pkl\n",
    "import csv"
   ]
  },
  {
   "cell_type": "code",
   "execution_count": 3,
   "metadata": {},
   "outputs": [],
   "source": [
    "with open(\"japanese6000.pkl\", \"rb\") as f:\n",
    "    word_list = pkl.load(f)"
   ]
  },
  {
   "cell_type": "code",
   "execution_count": 4,
   "metadata": {},
   "outputs": [
    {
     "data": {
      "text/plain": [
       "6000"
      ]
     },
     "execution_count": 4,
     "metadata": {},
     "output_type": "execute_result"
    }
   ],
   "source": [
    "len(word_list)"
   ]
  },
  {
   "cell_type": "markdown",
   "metadata": {},
   "source": [
    "## Check for duplicates"
   ]
  },
  {
   "cell_type": "code",
   "execution_count": 5,
   "metadata": {},
   "outputs": [],
   "source": [
    "from collections import Counter"
   ]
  },
  {
   "cell_type": "code",
   "execution_count": 6,
   "metadata": {},
   "outputs": [],
   "source": [
    "count = Counter([w[\"word\"] for w in word_list])"
   ]
  },
  {
   "cell_type": "code",
   "execution_count": 23,
   "metadata": {},
   "outputs": [
    {
     "data": {
      "text/plain": [
       "[('上がる', 5),\n",
       " ('日', 3),\n",
       " ('辛い', 3),\n",
       " ('上', 3),\n",
       " ('下', 3),\n",
       " ('明日', 3),\n",
       " ('間', 3),\n",
       " ('家', 2),\n",
       " ('私', 2),\n",
       " ('もう', 2)]"
      ]
     },
     "execution_count": 23,
     "metadata": {},
     "output_type": "execute_result"
    }
   ],
   "source": [
    "count.most_common(10)"
   ]
  },
  {
   "cell_type": "code",
   "execution_count": 24,
   "metadata": {},
   "outputs": [],
   "source": [
    "def view_duplicates(word):\n",
    "    return list(filter(lambda x: x[\"word\"] == word, word_list))"
   ]
  },
  {
   "cell_type": "code",
   "execution_count": 25,
   "metadata": {},
   "outputs": [
    {
     "data": {
      "text/plain": [
       "[{'word': '上がる',\n",
       "  'pron': 'あがる',\n",
       "  'translation': 'go up, rise (physical movement)',\n",
       "  'sent1': {'sentence': '私たちは2階に上がった。',\n",
       "   'transliteration': 'わたし たち は 2 かい に あがった。',\n",
       "   'translation': 'We went up to the second floor.'},\n",
       "  'sent2': {'sentence': 'レタスの値段がまた上がりました。',\n",
       "   'transliteration': 'レタス の ねだん が また あがりました。',\n",
       "   'translation': 'The price of lettuce has gone up again.'}},\n",
       " {'word': '上がる',\n",
       "  'pron': 'あがる',\n",
       "  'translation': 'go up, increase (in quality or quantity)',\n",
       "  'sent1': {'sentence': '毎年給料が上がる。',\n",
       "   'transliteration': 'まいねん きゅうりょう が あがる。',\n",
       "   'translation': 'My salary goes up every year.'},\n",
       "  'sent2': {'sentence': '成績が上がりました。',\n",
       "   'transliteration': 'せいせき が あがりました。',\n",
       "   'translation': 'His grades went up.'}},\n",
       " {'word': '上がる',\n",
       "  'pron': 'あがる',\n",
       "  'translation': 'get nervous',\n",
       "  'sent1': {'sentence': '彼は人前だと上がってしまう。',\n",
       "   'transliteration': 'かれ は ひとまえ だと あがって しまう。',\n",
       "   'translation': 'He gets nervous in front of other people.'},\n",
       "  'sent2': None},\n",
       " {'word': '上がる',\n",
       "  'pron': 'あがる',\n",
       "  'translation': 'eat, drink (honorific)',\n",
       "  'sent1': {'sentence': '冷めないうちにどうぞお上がりください。',\n",
       "   'transliteration': 'さめない うち に どうぞ おあがり ください。',\n",
       "   'translation': \"Please eat it while it's still hot.\"},\n",
       "  'sent2': None},\n",
       " {'word': '上がる',\n",
       "  'pron': 'あがる',\n",
       "  'translation': 'be completed, be finished (literary)',\n",
       "  'sent1': {'sentence': '今日は仕事が早く上がったんだ。',\n",
       "   'transliteration': 'きょう は しごと が はやく あがった ん だ。',\n",
       "   'translation': 'I finished work early today.'},\n",
       "  'sent2': None}]"
      ]
     },
     "execution_count": 25,
     "metadata": {},
     "output_type": "execute_result"
    }
   ],
   "source": [
    "view_duplicates('上がる')"
   ]
  },
  {
   "cell_type": "code",
   "execution_count": 26,
   "metadata": {},
   "outputs": [
    {
     "data": {
      "text/plain": [
       "[{'word': 'もう',\n",
       "  'pron': None,\n",
       "  'translation': 'already, yet',\n",
       "  'sent1': {'sentence': '彼はもう帰りました。',\n",
       "   'transliteration': 'かれ は もう かえりました。',\n",
       "   'translation': \"He's already gone home.\"},\n",
       "  'sent2': {'sentence': 'もうお金が無くなりました。',\n",
       "   'transliteration': 'もう おかね が なくなりました。',\n",
       "   'translation': \"I've run out of money already.\"}},\n",
       " {'word': 'もう',\n",
       "  'pron': None,\n",
       "  'translation': 'another, again',\n",
       "  'sent1': {'sentence': 'コーヒーをもう一杯ください。',\n",
       "   'transliteration': 'コーヒー を もう いっぱい ください。',\n",
       "   'translation': 'Please give me another cup of coffee.'},\n",
       "  'sent2': {'sentence': 'もう一度彼女に会いたいです。',\n",
       "   'transliteration': 'もう いち ど かのじょ に あいたい です。',\n",
       "   'translation': 'I want to see her once again.'}}]"
      ]
     },
     "execution_count": 26,
     "metadata": {},
     "output_type": "execute_result"
    }
   ],
   "source": [
    "view_duplicates('もう')"
   ]
  }
 ],
 "metadata": {
  "kernelspec": {
   "display_name": "Python 3",
   "language": "python",
   "name": "python3"
  },
  "language_info": {
   "codemirror_mode": {
    "name": "ipython",
    "version": 3
   },
   "file_extension": ".py",
   "mimetype": "text/x-python",
   "name": "python",
   "nbconvert_exporter": "python",
   "pygments_lexer": "ipython3",
   "version": "3.6.7"
  }
 },
 "nbformat": 4,
 "nbformat_minor": 2
}
